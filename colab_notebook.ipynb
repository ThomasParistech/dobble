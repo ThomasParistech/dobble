{
 "cells": [
  {
   "cell_type": "code",
   "execution_count": null,
   "metadata": {
    "id": "ZtouHyQfDDb1"
   },
   "outputs": [],
   "source": [
    "!git clone --depth 1 --branch v1.3.0 https://github.com/ThomasParistech/dobble.git"
   ]
  },
  {
   "cell_type": "code",
   "execution_count": null,
   "metadata": {
    "id": "LZ4dSwh1DJRT"
   },
   "outputs": [],
   "source": [
    "!pip install -r dobble/requirements.txt"
   ]
  },
  {
   "cell_type": "code",
   "execution_count": null,
   "metadata": {},
   "outputs": [],
   "source": [
    "# 👋 Note: If you don't have your own images and just want to test the notebook\n",
    "# with the provided example images, simply run this cell and skip the next one.\n",
    "# The next cell is only needed if you're uploading your own images.\n",
    "INPUT_SYMBOLS_FOLDER = \"dobble/images/symbols_examples\""
   ]
  },
  {
   "cell_type": "code",
   "execution_count": null,
   "metadata": {
    "cellView": "form",
    "id": "9ccXkfggQVFU"
   },
   "outputs": [],
   "source": [
    "import os\n",
    "import shutil\n",
    "\n",
    "from google.colab import files\n",
    "\n",
    "#@markdown Name of the input symbols folder.\n",
    "INPUT_SYMBOLS_FOLDER = \"in_symbols\" #@param {type:\"string\"}\n",
    "\n",
    "#@markdown Upload your 57 symbols images by running this cell.\n",
    "\n",
    "#@markdown OR\n",
    "\n",
    "#@markdown You can use the file manager on the left panel to upload (drag and drop) (it uploads faster)\n",
    "\n",
    "\n",
    "os.makedirs(INPUT_SYMBOLS_FOLDER, exist_ok=True)\n",
    "uploaded = files.upload()\n",
    "for filename in uploaded.keys():\n",
    "    dst_path = os.path.join(INPUT_SYMBOLS_FOLDER, filename)\n",
    "    shutil.move(filename, dst_path)"
   ]
  },
  {
   "cell_type": "code",
   "execution_count": null,
   "metadata": {
    "cellView": "form",
    "id": "AbnM1903RjkZ"
   },
   "outputs": [],
   "source": [
    "import os\n",
    "\n",
    "#@markdown Name of the output results folder.\n",
    "OUTPUT_RESULTS_FOLDER = \"out_results\" #@param {type:\"string\"}\n",
    "\n",
    "#@markdown Generate your Dobble by running this cell.\n",
    "\n",
    "!cd dobble; python3 -m dobble \\\n",
    "  --symbols_folder {os.path.abspath(INPUT_SYMBOLS_FOLDER)} \\\n",
    "  --output_folder {os.path.abspath(OUTPUT_RESULTS_FOLDER)}"
   ]
  }
 ],
 "metadata": {
  "colab": {
   "provenance": []
  },
  "kernelspec": {
   "display_name": "Python 3",
   "name": "python3"
  },
  "language_info": {
   "name": "python"
  }
 },
 "nbformat": 4,
 "nbformat_minor": 0
}
